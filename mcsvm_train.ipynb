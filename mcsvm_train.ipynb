{
 "cells": [
  {
   "cell_type": "code",
   "execution_count": 161,
   "metadata": {},
   "outputs": [],
   "source": [
    "import os\n",
    "import glob\n",
    "\n",
    "import numpy as np\n",
    "import pandas as pd\n",
    "\n",
    "\n",
    "import matplotlib.pyplot as plt\n",
    "\n",
    "from sklearn.preprocessing import LabelEncoder\n",
    "from sklearn.model_selection import train_test_split\n",
    "from sklearn import svm, datasets\n",
    "\n",
    "import utils\n",
    "\n",
    "from sklearn.metrics import confusion_matrix\n",
    "import seaborn as sn\n",
    "\n",
    "from skl_dataset import SKLSwingDataset\n",
    "\n",
    "from sklearn.metrics import confusion_matrix\n",
    "import seaborn as sn"
   ]
  },
  {
   "cell_type": "code",
   "execution_count": 162,
   "metadata": {},
   "outputs": [],
   "source": [
    "os.environ['KMP_DUPLICATE_LIB_OK'] = 'True'"
   ]
  },
  {
   "cell_type": "code",
   "execution_count": 163,
   "metadata": {},
   "outputs": [],
   "source": [
    "path = \"data/\"\n",
    "\n",
    "shot_types = [\"Pull-hook\", \"Hook\", \"Pull\", \"Fade\", \"Straight\", \"Draw\", \"Push\", \"Slice\" , \"Push-slice\"]\n"
   ]
  },
  {
   "cell_type": "code",
   "execution_count": null,
   "metadata": {},
   "outputs": [],
   "source": []
  },
  {
   "cell_type": "code",
   "execution_count": 164,
   "metadata": {},
   "outputs": [],
   "source": [
    "\n",
    "\n",
    "# GENERATE DATA SPLITS\n",
    "train = 0.75\n",
    "val = 0.2\n",
    "test = 0.05\n",
    "\n",
    "X_train = X_data[:int(n*train),:,:] \n",
    "y_train = y_data[:int(n*train),:]\n",
    "\n",
    "X_val = X_data[int(n*train):int(n*(val+train)),:,:]\n",
    "y_val = y_data[int(n*train):int(n*(val+train)),:]\n",
    "\n",
    "X_test = X_data[-int(n*test):,:,:]\n",
    "y_test = y_data[-int(n*test):,:]\n",
    "\n",
    "# /GENERATE DATA SPLITS"
   ]
  },
  {
   "cell_type": "code",
   "execution_count": 165,
   "metadata": {},
   "outputs": [],
   "source": [
    "train_set = SKLSwingDataset(X_train, y_train)\n",
    "val_set = SKLSwingDataset(X_val, y_val, mean=train_set.mean, std=train_set.std, y_mean=train_set.y_dist_mean, y_std=train_set.y_dist_std)\n",
    "test_set = SKLSwingDataset(X_test, y_test, mean=train_set.mean, std=train_set.std, y_mean=train_set.y_dist_mean, y_std=train_set.y_dist_std)\n"
   ]
  },
  {
   "cell_type": "code",
   "execution_count": 166,
   "metadata": {},
   "outputs": [],
   "source": [
    "np.save(\"norm_data/X_mean.npy\", train_set.mean)\n",
    "np.save(\"norm_data/X_std.npy\", train_set.std)\n",
    "np.save(\"norm_data/y_mean.npy\", train_set.y_dist_mean)\n",
    "np.save(\"norm_data/y_std.npy\", train_set.y_dist_std)"
   ]
  },
  {
   "cell_type": "code",
   "execution_count": 167,
   "metadata": {},
   "outputs": [
    {
     "data": {
      "text/plain": [
       "array([[ True,  True,  True, ...,  True,  True,  True],\n",
       "       [ True,  True,  True, ...,  True,  True,  True],\n",
       "       [ True,  True,  True, ...,  True,  True,  True],\n",
       "       [ True,  True,  True, ...,  True,  True,  True],\n",
       "       [ True,  True,  True, ...,  True,  True,  True],\n",
       "       [ True,  True,  True, ...,  True,  True,  True]])"
      ]
     },
     "execution_count": 167,
     "metadata": {},
     "output_type": "execute_result"
    }
   ],
   "source": [
    "train_set.mean == np.load(\"norm_data/X_mean.npy\")"
   ]
  },
  {
   "cell_type": "code",
   "execution_count": 168,
   "metadata": {},
   "outputs": [
    {
     "data": {
      "text/plain": [
       "[<matplotlib.lines.Line2D at 0x7f046731f7f0>]"
      ]
     },
     "execution_count": 168,
     "metadata": {},
     "output_type": "execute_result"
    },
    {
     "data": {
      "image/png": "[encoded data removed]",
      "text/plain": [
       "<Figure size 432x288 with 1 Axes>"
      ]
     },
     "metadata": {
      "needs_background": "light"
     },
     "output_type": "display_data"
    }
   ],
   "source": [
    "# Plot X_data\n",
    "plt.plot(train_set.X_data[0][0],alpha=0.5)\n"
   ]
  },
  {
   "cell_type": "code",
   "execution_count": 169,
   "metadata": {},
   "outputs": [],
   "source": [
    "#encoder=LabelEncoder()\n",
    "\n",
    "X_train = train_set.X_data\n",
    "y_train = train_set.y_data\n",
    "\n",
    "train_classes = [row[:-1] for row in y_train]\n",
    "y_train = np.argmax(train_classes, axis=1)\n",
    "\n",
    "#Reshape data\n",
    "n, nx, ny = X_train.shape\n",
    "X_train = X_train.reshape((n,nx*ny))\n",
    "\n",
    "\n",
    "#One-vs-one SVM with rbf kernel.\n",
    "rbfsvm = svm.SVC(kernel='rbf', decision_function_shape='ovo',\n",
    "                   gamma=1, C=1).fit(X_train, y_train)\n",
    "     \n",
    "    \n",
    "    \n",
    "X_test = test_set.X_data\n",
    "y_test = test_set.y_data\n",
    "\n",
    "\n",
    "#Reshape data\n",
    "n, nx, ny = X_test.shape\n",
    "X_test = X_test.reshape((n,nx*ny))\n",
    "\n",
    "test_classes = [row[:-1] for row in y_test]\n",
    "y_test = np.argmax(test_classes, axis=1)\n",
    "\n",
    "\n",
    "\n",
    "        "
   ]
  },
  {
   "cell_type": "code",
   "execution_count": 173,
   "metadata": {},
   "outputs": [],
   "source": [
    "def print_predictions(predictions, truth, labels, n=10):\n",
    "    for i in range(len(predictions)):\n",
    "        p = predictions[i]\n",
    "        t = truth[i]\n",
    "        nLabels = len(labels)\n",
    "        if i < n:\n",
    "            if p >= 0 and p < nLabels:\n",
    "                print(\"Predicted shot type is \" + str(labels[p]))\n",
    "                print(\"Real shot type is \" + str(labels[t]) + \"\\n\\n\")\n",
    "                \n",
    "            else:\n",
    "                print(\"Invalid shot class\")\n",
    "            \n",
    "        else:\n",
    "            return\n",
    "    \n",
    "       "
   ]
  },
  {
   "cell_type": "code",
   "execution_count": 174,
   "metadata": {},
   "outputs": [],
   "source": [
    "predictions = rbfsvm.predict(X_test)"
   ]
  },
  {
   "cell_type": "code",
   "execution_count": 175,
   "metadata": {},
   "outputs": [
    {
     "name": "stdout",
     "output_type": "stream",
     "text": [
      "Predicted shot type is Push\n",
      "Real shot type is Push\n",
      "\n",
      "\n",
      "Predicted shot type is Push-slice\n",
      "Real shot type is Push-slice\n",
      "\n",
      "\n",
      "Predicted shot type is Straight\n",
      "Real shot type is Straight\n",
      "\n",
      "\n",
      "Predicted shot type is Push-slice\n",
      "Real shot type is Pull\n",
      "\n",
      "\n",
      "Predicted shot type is Push-slice\n",
      "Real shot type is Slice\n",
      "\n",
      "\n",
      "Predicted shot type is Push-slice\n",
      "Real shot type is Straight\n",
      "\n",
      "\n",
      "Predicted shot type is Push-slice\n",
      "Real shot type is Slice\n",
      "\n",
      "\n",
      "Predicted shot type is Push-slice\n",
      "Real shot type is Straight\n",
      "\n",
      "\n",
      "Predicted shot type is Push-slice\n",
      "Real shot type is Push\n",
      "\n",
      "\n",
      "Predicted shot type is Push-slice\n",
      "Real shot type is Pull\n",
      "\n",
      "\n"
     ]
    }
   ],
   "source": [
    "print_predictions(predictions, y_test, shot_types, 10)"
   ]
  },
  {
   "cell_type": "code",
   "execution_count": 36,
   "metadata": {},
   "outputs": [
    {
     "ename": "NameError",
     "evalue": "name 'confusion_matrix' is not defined",
     "output_type": "error",
     "traceback": [
      "\u001b[0;31m---------------------------------------------------------------------------\u001b[0m",
      "\u001b[0;31mNameError\u001b[0m                                 Traceback (most recent call last)",
      "\u001b[0;32m<ipython-input-36-cd4378ae904b>\u001b[0m in \u001b[0;36m<module>\u001b[0;34m\u001b[0m\n\u001b[0;32m----> 1\u001b[0;31m \u001b[0mcm\u001b[0m \u001b[0;34m=\u001b[0m \u001b[0mconfusion_matrix\u001b[0m\u001b[0;34m(\u001b[0m\u001b[0mtrue_shot_types\u001b[0m\u001b[0;34m,\u001b[0m \u001b[0mtest_shot_types\u001b[0m\u001b[0;34m)\u001b[0m\u001b[0;34m\u001b[0m\u001b[0;34m\u001b[0m\u001b[0m\n\u001b[0m\u001b[1;32m      2\u001b[0m \u001b[0mplt\u001b[0m\u001b[0;34m.\u001b[0m\u001b[0mfigure\u001b[0m\u001b[0;34m(\u001b[0m\u001b[0mfigsize\u001b[0m \u001b[0;34m=\u001b[0m \u001b[0;34m(\u001b[0m\u001b[0;36m10\u001b[0m\u001b[0;34m,\u001b[0m\u001b[0;36m7\u001b[0m\u001b[0;34m)\u001b[0m\u001b[0;34m)\u001b[0m\u001b[0;34m\u001b[0m\u001b[0;34m\u001b[0m\u001b[0m\n\u001b[1;32m      3\u001b[0m \u001b[0msn\u001b[0m\u001b[0;34m.\u001b[0m\u001b[0mheatmap\u001b[0m\u001b[0;34m(\u001b[0m\u001b[0mcm\u001b[0m\u001b[0;34m,\u001b[0m \u001b[0mannot\u001b[0m\u001b[0;34m=\u001b[0m\u001b[0;32mTrue\u001b[0m\u001b[0;34m)\u001b[0m\u001b[0;34m\u001b[0m\u001b[0;34m\u001b[0m\u001b[0m\n",
      "\u001b[0;31mNameError\u001b[0m: name 'confusion_matrix' is not defined"
     ]
    }
   ],
   "source": [
    "cm = confusion_matrix(true_shot_types, test_shot_types)\n",
    "plt.figure(figsize = (10,7))\n",
    "sn.heatmap(cm, annot=True)"
   ]
  },
  {
   "cell_type": "code",
   "execution_count": null,
   "metadata": {},
   "outputs": [],
   "source": []
  }
 ],
 "metadata": {
  "kernelspec": {
   "display_name": "Python 3",
   "language": "python",
   "name": "python3"
  },
  "language_info": {
   "codemirror_mode": {
    "name": "ipython",
    "version": 3
   },
   "file_extension": ".py",
   "mimetype": "text/x-python",
   "name": "python",
   "nbconvert_exporter": "python",
   "pygments_lexer": "ipython3",
   "version": "3.7.3"
  }
 },
 "nbformat": 4,
 "nbformat_minor": 4
}
