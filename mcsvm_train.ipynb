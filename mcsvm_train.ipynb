{
 "cells": [
  {
   "cell_type": "code",
   "execution_count": 7,
   "metadata": {},
   "outputs": [],
   "source": [
    "import os\n",
    "import glob\n",
    "\n",
    "import numpy as np\n",
    "import pandas as pd\n",
    "\n",
    "\n",
    "import matplotlib.pyplot as plt\n",
    "\n",
    "from sklearn.preprocessing import LabelEncoder\n",
    "from sklearn.model_selection import train_test_split\n",
    "from sklearn import svm, datasets\n",
    "import sklearn.metrics\n",
    "\n",
    "import utils\n",
    "\n",
    "from skl_dataset import SKLSwingDataset, oversample_minority\n",
    "\n",
    "from sklearn.metrics import confusion_matrix\n",
    "import seaborn as sn"
   ]
  },
  {
   "cell_type": "code",
   "execution_count": 8,
   "metadata": {},
   "outputs": [],
   "source": [
    "os.environ['KMP_DUPLICATE_LIB_OK'] = 'True'"
   ]
  },
  {
   "cell_type": "code",
   "execution_count": 9,
   "metadata": {},
   "outputs": [],
   "source": [
    "path = \"data/\"\n",
    "use_oversampling = True\n",
    "\n",
    "\n",
    "shot_types = [\"left\", \"straight\", \"right\"]\n",
    "n_shot_types = len(shot_types) + 1"
   ]
  },
  {
   "cell_type": "code",
   "execution_count": 10,
   "metadata": {},
   "outputs": [],
   "source": [
    "X_data, y_data = utils.load_data(path)"
   ]
  },
  {
   "cell_type": "code",
   "execution_count": 11,
   "metadata": {},
   "outputs": [
    {
     "data": {
      "text/plain": [
       "(110, 6, 500)"
      ]
     },
     "execution_count": 11,
     "metadata": {},
     "output_type": "execute_result"
    }
   ],
   "source": [
    "X_data.shape"
   ]
  },
  {
   "cell_type": "code",
   "execution_count": 12,
   "metadata": {},
   "outputs": [
    {
     "name": "stdout",
     "output_type": "stream",
     "text": [
      "(225, 6, 500) (225, 10)\n"
     ]
    }
   ],
   "source": [
    "if use_oversampling:\n",
    "    X_data, y_data = oversample_minority(X_data, y_data)\n",
    "    print(X_data.shape, y_data.shape)\n",
    "\n",
    "\n",
    "n = X_data.shape[0]\n",
    "\n",
    "# GENERATE DATA SPLITS\n",
    "train = 0.75\n",
    "val = 0.2\n",
    "test = 0.05\n",
    "\n",
    "X_train = X_data[:int(n*train),:,:] \n",
    "y_train = y_data[:int(n*train),:]\n",
    "\n",
    "X_val = X_data[int(n*train):int(n*(val+train)),:,:]\n",
    "y_val = y_data[int(n*train):int(n*(val+train)),:]\n",
    "\n",
    "X_test = X_data[-int(n*test):,:,:]\n",
    "y_test = y_data[-int(n*test):,:]\n",
    "\n",
    "# /GENERATE DATA SPLITS"
   ]
  },
  {
   "cell_type": "code",
   "execution_count": 13,
   "metadata": {},
   "outputs": [],
   "source": [
    "train_set = SKLSwingDataset(X_train, y_train, augment = True, oversample=True)\n",
    "val_set = SKLSwingDataset(X_val, y_val, mean=train_set.mean, std=train_set.std, y_mean=train_set.y_dist_mean, y_std=train_set.y_dist_std)\n",
    "test_set = SKLSwingDataset(X_test, y_test, mean=train_set.mean, std=train_set.std, y_mean=train_set.y_dist_mean, y_std=train_set.y_dist_std)\n"
   ]
  },
  {
   "cell_type": "code",
   "execution_count": 14,
   "metadata": {},
   "outputs": [],
   "source": [
    "np.save(\"norm_data/X_mean.npy\", train_set.mean)\n",
    "np.save(\"norm_data/X_std.npy\", train_set.std)\n",
    "np.save(\"norm_data/y_mean.npy\", train_set.y_dist_mean)\n",
    "np.save(\"norm_data/y_std.npy\", train_set.y_dist_std)"
   ]
  },
  {
   "cell_type": "code",
   "execution_count": 15,
   "metadata": {},
   "outputs": [
    {
     "data": {
      "text/plain": [
       "array([[ True,  True,  True, ...,  True,  True,  True],\n",
       "       [ True,  True,  True, ...,  True,  True,  True],\n",
       "       [ True,  True,  True, ...,  True,  True,  True],\n",
       "       [ True,  True,  True, ...,  True,  True,  True],\n",
       "       [ True,  True,  True, ...,  True,  True,  True],\n",
       "       [ True,  True,  True, ...,  True,  True,  True]])"
      ]
     },
     "execution_count": 15,
     "metadata": {},
     "output_type": "execute_result"
    }
   ],
   "source": [
    "train_set.mean == np.load(\"norm_data/X_mean.npy\")"
   ]
  },
  {
   "cell_type": "code",
   "execution_count": 16,
   "metadata": {},
   "outputs": [
    {
     "data": {
      "text/plain": [
       "[<matplotlib.lines.Line2D at 0x7ffa59822ef0>]"
      ]
     },
     "execution_count": 16,
     "metadata": {},
     "output_type": "execute_result"
    },
    {
     "data": {
      "image/png": "[encoded data removed]",
      "text/plain": [
       "<Figure size 432x288 with 1 Axes>"
      ]
     },
     "metadata": {
      "needs_background": "light"
     },
     "output_type": "display_data"
    }
   ],
   "source": [
    "# Plot X_data\n",
    "plt.plot(train_set.X_data[0][0],alpha=0.5)\n"
   ]
  },
  {
   "cell_type": "code",
   "execution_count": 17,
   "metadata": {},
   "outputs": [],
   "source": [
    "#Training data\n",
    "X_train = train_set.X_data\n",
    "y_train = train_set.y_data\n",
    "\n",
    "train_classes = [row[:-1] for row in y_train]\n",
    "y_train = np.argmax(train_classes, axis=1)\n",
    "\n",
    "for i in range(len(y_train)):\n",
    "    y_train[i] = y_train[i] // n_shot_types\n",
    "\n",
    "\n",
    "#Reshape training data\n",
    "n, nx, ny = X_train.shape\n",
    "X_train = X_train.reshape((n,nx*ny))\n",
    "  \n",
    "    \n",
    "#Test data    \n",
    "X_test = test_set.X_data\n",
    "y_test = test_set.y_data\n",
    "\n",
    "\n",
    "\n",
    "#Reshape test data\n",
    "n, nx, ny = X_test.shape\n",
    "X_test = X_test.reshape((n,nx*ny))\n",
    "\n",
    "test_classes = [row[:-1] for row in y_test]\n",
    "y_test = np.argmax(test_classes, axis=1)\n",
    "\n",
    "for i in range(len(y_test)):\n",
    "    y_test[i] = y_test[i] // n_shot_types\n",
    "\n",
    "        "
   ]
  },
  {
   "cell_type": "code",
   "execution_count": 18,
   "metadata": {},
   "outputs": [
    {
     "data": {
      "text/plain": [
       "(198, 3000)"
      ]
     },
     "execution_count": 18,
     "metadata": {},
     "output_type": "execute_result"
    }
   ],
   "source": [
    "X_train.shape"
   ]
  },
  {
   "cell_type": "code",
   "execution_count": 19,
   "metadata": {},
   "outputs": [],
   "source": [
    "#One-vs-one SVM with rbf kernel.\n",
    "rbfsvm = svm.SVC(kernel='rbf', decision_function_shape='ovo',\n",
    "                   gamma=1, C=1, probability=True).fit(X_train, y_train)\n",
    "   \n",
    "       "
   ]
  },
  {
   "cell_type": "code",
   "execution_count": 20,
   "metadata": {},
   "outputs": [],
   "source": [
    "def print_predictions(predictions, truth, labels, n=10):\n",
    "    for i in range(len(predictions)):\n",
    "        p = predictions[i]\n",
    "        t = truth[i]\n",
    "        nLabels = len(labels)\n",
    "        if i < n:\n",
    "            if p >= 0 and p < nLabels:\n",
    "                print(\"Predicted shot type is \" + str(labels[p]))\n",
    "                print(\"Real shot type is \" + str(labels[t]) + \"\\n\\n\")\n",
    "                \n",
    "            else:\n",
    "                print(\"Invalid shot class\")\n",
    "            \n",
    "        else:\n",
    "            return\n",
    "\n",
    "\n",
    "def calcAccuracy(predictions, truth):\n",
    "    numPreds = len(predictions)\n",
    "    p = 0\n",
    "     \n",
    "    for i in range(numPreds):\n",
    "        if predictions[i] == truth[i]:\n",
    "            p += 1\n",
    "      \n",
    "    return p/numPreds\n",
    "    \n"
   ]
  },
  {
   "cell_type": "code",
   "execution_count": 21,
   "metadata": {},
   "outputs": [
    {
     "name": "stdout",
     "output_type": "stream",
     "text": [
      "Accuracy is 0.818182 (81.818182%)\n",
      "Predicted shot type is straight\n",
      "Real shot type is straight\n",
      "\n",
      "\n",
      "Predicted shot type is left\n",
      "Real shot type is left\n",
      "\n",
      "\n",
      "Predicted shot type is straight\n",
      "Real shot type is right\n",
      "\n",
      "\n",
      "Predicted shot type is straight\n",
      "Real shot type is straight\n",
      "\n",
      "\n",
      "Predicted shot type is straight\n",
      "Real shot type is left\n",
      "\n",
      "\n",
      "Predicted shot type is left\n",
      "Real shot type is left\n",
      "\n",
      "\n",
      "Predicted shot type is left\n",
      "Real shot type is left\n",
      "\n",
      "\n",
      "Predicted shot type is straight\n",
      "Real shot type is straight\n",
      "\n",
      "\n",
      "Predicted shot type is left\n",
      "Real shot type is left\n",
      "\n",
      "\n",
      "Predicted shot type is left\n",
      "Real shot type is left\n",
      "\n",
      "\n"
     ]
    }
   ],
   "source": [
    "predictions = rbfsvm.predict(X_test)\n",
    "accuracy = calcAccuracy(predictions, y_test)\n",
    "\n",
    "print (\"Accuracy is %f (%f\" % (accuracy, accuracy * 100) + \"%)\")\n",
    "\n",
    "print_predictions(predictions, y_test, shot_types, 10)"
   ]
  },
  {
   "cell_type": "code",
   "execution_count": 22,
   "metadata": {},
   "outputs": [
    {
     "data": {
      "text/plain": [
       "<matplotlib.axes._subplots.AxesSubplot at 0x7ffa59009b70>"
      ]
     },
     "execution_count": 22,
     "metadata": {},
     "output_type": "execute_result"
    },
    {
     "data": {
      "image/png": "[encoded data removed]",
      "text/plain": [
       "<Figure size 720x504 with 2 Axes>"
      ]
     },
     "metadata": {
      "needs_background": "light"
     },
     "output_type": "display_data"
    }
   ],
   "source": [
    "cm = confusion_matrix(y_test, predictions)\n",
    "plt.figure(figsize = (10,7))\n",
    "sn.heatmap(cm, annot=True)\n"
   ]
  },
  {
   "cell_type": "code",
   "execution_count": null,
   "metadata": {},
   "outputs": [],
   "source": []
  },
  {
   "cell_type": "code",
   "execution_count": null,
   "metadata": {},
   "outputs": [],
   "source": []
  }
 ],
 "metadata": {
  "kernelspec": {
   "display_name": "Python 3",
   "language": "python",
   "name": "python3"
  },
  "language_info": {
   "codemirror_mode": {
    "name": "ipython",
    "version": 3
   },
   "file_extension": ".py",
   "mimetype": "text/x-python",
   "name": "python",
   "nbconvert_exporter": "python",
   "pygments_lexer": "ipython3",
   "version": "3.7.3"
  }
 },
 "nbformat": 4,
 "nbformat_minor": 4
}
