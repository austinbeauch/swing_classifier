{
 "cells": [
  {
   "cell_type": "code",
   "execution_count": 11,
   "metadata": {},
   "outputs": [
    {
     "name": "stdout",
     "output_type": "stream",
     "text": [
      "Fold 1: Accuracy is 0.913043 (91.304348%)\n",
      "Fold 2: Accuracy is 0.826087 (82.608696%)\n",
      "Fold 3: Accuracy is 0.956522 (95.652174%)\n",
      "Fold 4: Accuracy is 0.869565 (86.956522%)\n",
      "Fold 5: Accuracy is 0.826087 (82.608696%)\n",
      "Fold 6: Accuracy is 0.863636 (86.363636%)\n",
      "Fold 7: Accuracy is 0.909091 (90.909091%)\n",
      "Fold 8: Accuracy is 0.863636 (86.363636%)\n",
      "Fold 9: Accuracy is 0.727273 (72.727273%)\n",
      "Fold 10: Accuracy is 0.909091 (90.909091%)\n"
     ]
    }
   ],
   "source": [
    "from sklearn.model_selection import KFold\n",
    "import os\n",
    "import glob\n",
    "\n",
    "import numpy as np\n",
    "import pandas as pd\n",
    "\n",
    "\n",
    "import matplotlib.pyplot as plt\n",
    "\n",
    "from sklearn.preprocessing import LabelEncoder\n",
    "from sklearn.model_selection import train_test_split\n",
    "from sklearn import svm, datasets\n",
    "import sklearn.metrics\n",
    "\n",
    "import utils\n",
    "\n",
    "from skl_dataset import SKLSwingDataset, oversample_minority\n",
    "\n",
    "from sklearn.metrics import confusion_matrix\n",
    "#import seaborn as sn\n",
    "\n",
    "def calcAccuracy(predictions, truth):\n",
    "    numPreds = len(predictions)\n",
    "    p = 0\n",
    "     \n",
    "    for i in range(numPreds):\n",
    "        if predictions[i] == truth[i]:\n",
    "            p += 1\n",
    "      \n",
    "    return p/numPreds\n",
    "\n",
    "\n",
    "os.environ['KMP_DUPLICATE_LIB_OK'] = 'True'\n",
    "\n",
    "path = \"data/\"\n",
    "shot_types = [\"Pull-hook\", \"Hook\", \"Pull\", \"Fade\", \"Straight\", \"Draw\", \"Push\", \"Slice\" , \"Push-slice\"]\n",
    "use_partitioning  = True\n",
    "\n",
    "n_shot_types = 4 if use_partitioning else 10\n",
    "\n",
    "X_data, y_data = utils.load_data(path)\n",
    "\n",
    "use_oversampling = True\n",
    "if use_oversampling:\n",
    "    X_data, y_data = oversample_minority(X_data, y_data)\n",
    "\n",
    "k_fold = 10\n",
    "\n",
    "n = X_data.shape[0]\n",
    "kf = KFold(n_splits=k_fold)\n",
    "kf.get_n_splits(X_data)\n",
    "\n",
    "total_acc = 0\n",
    "total_MSE = 0\n",
    "\n",
    "all_test_shot_types = [] \n",
    "all_true_shot_types = []\n",
    "    \n",
    "all_test_shot_types = [] \n",
    "all_true_shot_types = []\n",
    "\n",
    "\n",
    "\n",
    "for k_i, (train_index, test_index) in enumerate(kf.split(X_data)):\n",
    "    \n",
    "    \n",
    "    X_train, X_test = X_data[train_index], X_data[test_index]\n",
    "    y_train, y_test = y_data[train_index], y_data[test_index]\n",
    "    \n",
    "    train_set = SKLSwingDataset(X_train, y_train, augment=True, oversample = True)\n",
    "    test_set = SKLSwingDataset(X_test, y_test, mean=train_set.mean, std=train_set.std, y_mean=train_set.y_dist_mean, y_std=train_set.y_dist_std)\n",
    "\n",
    "    \n",
    "    train_classes = [row[:-1] for row in y_train]\n",
    "    y_train = np.argmax(train_classes, axis=1)\n",
    "\n",
    "    if use_partitioning:\n",
    "        for i in range(len(y_train)):\n",
    "            y_train[i] = y_train[i] // n_shot_types\n",
    "\n",
    "\n",
    "    #Reshape training data\n",
    "    n, nx, ny = X_train.shape\n",
    "    X_train = X_train.reshape((n,nx*ny))\n",
    "\n",
    "\n",
    "    #Test data    \n",
    "    X_test = test_set.X_data\n",
    "    y_test = test_set.y_data\n",
    "\n",
    "\n",
    "\n",
    "    #Reshape test data\n",
    "    n, nx, ny = X_test.shape\n",
    "    X_test = X_test.reshape((n,nx*ny))\n",
    "\n",
    "    test_classes = [row[:-1] for row in y_test]\n",
    "    y_test = np.argmax(test_classes, axis=1)\n",
    "\n",
    "    if use_partitioning:\n",
    "        for i in range(len(y_test)):\n",
    "            y_test[i] = y_test[i] // n_shot_types\n",
    "            \n",
    "            \n",
    "    #One-vs-one SVM with rbf kernel.\n",
    "    rbfsvm = svm.SVC(kernel='rbf', decision_function_shape='ovo',\n",
    "                   gamma='auto', C=1, probability=True).fit(X_train, y_train)\n",
    "   \n",
    "    predictions = rbfsvm.predict(X_test)\n",
    "    accuracy = calcAccuracy(predictions, y_test)\n",
    "    \n",
    "    all_test_shot_types.extend(predictions) \n",
    "    all_true_shot_types.extend(y_test)\n",
    "\n",
    "    print (\"Fold %d: Accuracy is %f (%f\" % (k_i+1, accuracy, accuracy * 100) + \"%)\")"
   ]
  },
  {
   "cell_type": "code",
   "execution_count": 14,
   "metadata": {},
   "outputs": [
    {
     "data": {
      "text/plain": [
       "array([[ 91,   9,   0],\n",
       "       [  0, 100,   0],\n",
       "       [  0,  21,   4]])"
      ]
     },
     "execution_count": 14,
     "metadata": {},
     "output_type": "execute_result"
    }
   ],
   "source": [
    "cm = confusion_matrix(all_true_shot_types, all_test_shot_types)\n",
    "cm\n",
    "#plt.figure(figsize = (10,7))\n",
    "#sn.heatmap(cm, annot=True)"
   ]
  },
  {
   "cell_type": "code",
   "execution_count": 16,
   "metadata": {},
   "outputs": [
    {
     "data": {
      "text/plain": [
       "8.664031"
      ]
     },
     "execution_count": 16,
     "metadata": {},
     "output_type": "execute_result"
    }
   ],
   "source": [
    "0.913043 + 0.826087 + 0.956522 + 0.869565 + 0.826087 + 0.863636 + 0.909091 + 0.863636 + 0.727273 + 0.909091 "
   ]
  },
  {
   "cell_type": "code",
   "execution_count": null,
   "metadata": {},
   "outputs": [],
   "source": []
  }
 ],
 "metadata": {
  "kernelspec": {
   "display_name": "Python 3",
   "language": "python",
   "name": "python3"
  },
  "language_info": {
   "codemirror_mode": {
    "name": "ipython",
    "version": 3
   },
   "file_extension": ".py",
   "mimetype": "text/x-python",
   "name": "python",
   "nbconvert_exporter": "python",
   "pygments_lexer": "ipython3",
   "version": "3.8.5"
  }
 },
 "nbformat": 4,
 "nbformat_minor": 4
}
