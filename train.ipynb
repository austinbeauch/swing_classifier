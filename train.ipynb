{
 "cells": [
  {
   "cell_type": "code",
   "execution_count": 1,
   "metadata": {},
   "outputs": [],
   "source": [
    "import os\n",
    "import glob\n",
    "\n",
    "import numpy as np\n",
    "import pandas as pd\n",
    "import torch\n",
    "from torch import nn\n",
    "import matplotlib.pyplot as plt\n",
    "from tqdm import tqdm, trange\n",
    "\n",
    "from model import MSResNet"
   ]
  },
  {
   "cell_type": "code",
   "execution_count": 2,
   "metadata": {},
   "outputs": [],
   "source": [
    "os.environ['KMP_DUPLICATE_LIB_OK'] = 'True'"
   ]
  },
  {
   "cell_type": "code",
   "execution_count": 3,
   "metadata": {},
   "outputs": [],
   "source": [
    "shot_types = 9\n",
    "other_metrics = 1\n",
    "total_metics = 10"
   ]
  },
  {
   "cell_type": "code",
   "execution_count": 4,
   "metadata": {},
   "outputs": [],
   "source": [
    "device = torch.device(\"cuda:0\" if torch.cuda.is_available() else \"cpu\")"
   ]
  },
  {
   "cell_type": "code",
   "execution_count": 5,
   "metadata": {},
   "outputs": [],
   "source": [
    "path = \"data/\""
   ]
  },
  {
   "cell_type": "code",
   "execution_count": 238,
   "metadata": {},
   "outputs": [],
   "source": [
    "X_data = []\n",
    "y_data = [] \n",
    "for i in range(100):\n",
    "    for csv in glob.glob(path + \"*.csv\"):\n",
    "        x = pd.read_csv(csv).drop(columns=\"Unnamed: 0\")\n",
    "        y = np.zeros(total_metics)\n",
    "        y[x[\"shot_type\"][0]] = 1\n",
    "        y[-1] = x[\"distance\"][0]\n",
    "        x_values = x.values[:, :-2].T + np.random.random(x.values[:, :-2].T.shape)\n",
    "        X_data.append(x_values)\n",
    "        y_data.append(y)"
   ]
  },
  {
   "cell_type": "code",
   "execution_count": 239,
   "metadata": {},
   "outputs": [],
   "source": [
    "class SwingDataset(torch.utils.data.Dataset):\n",
    "    def __init__(self, X_data, y_data):\n",
    "        super().__init__()\n",
    "        self.X_data = torch.Tensor(X_data)\n",
    "        self.y_data = torch.Tensor(y_data)\n",
    "        \n",
    "    def __len__(self):\n",
    "        return self.X_data.shape[0]\n",
    "    \n",
    "    def __getitem__(self, idx):\n",
    "        return self.X_data[idx], self.y_data[idx]"
   ]
  },
  {
   "cell_type": "code",
   "execution_count": 240,
   "metadata": {},
   "outputs": [],
   "source": [
    "swing = SwingDataset(X_data, y_data)"
   ]
  },
  {
   "cell_type": "code",
   "execution_count": 241,
   "metadata": {},
   "outputs": [
    {
     "data": {
      "text/plain": [
       "torch.Size([100, 10])"
      ]
     },
     "execution_count": 241,
     "metadata": {},
     "output_type": "execute_result"
    }
   ],
   "source": [
    "swing.y_data.shape"
   ]
  },
  {
   "cell_type": "code",
   "execution_count": 249,
   "metadata": {},
   "outputs": [],
   "source": [
    "val_ratio = 0.1\n",
    "val_size = int(len(swing)*val_ratio)\n",
    "indices_val = list(range(0, val_size))\n",
    "indices_train = list(range(val_size, len(swing)))\n",
    "\n",
    "val_set = torch.utils.data.Subset(swing, indices_val)\n",
    "train_set = torch.utils.data.Subset(swing, indices_train)"
   ]
  },
  {
   "cell_type": "code",
   "execution_count": 250,
   "metadata": {},
   "outputs": [
    {
     "data": {
      "text/plain": [
       "torch.Size([100, 6, 2285])"
      ]
     },
     "execution_count": 250,
     "metadata": {},
     "output_type": "execute_result"
    }
   ],
   "source": [
    "train_set.dataset.X_data.shape"
   ]
  },
  {
   "cell_type": "code",
   "execution_count": 251,
   "metadata": {},
   "outputs": [
    {
     "data": {
      "text/plain": [
       "torch.Size([100, 6, 2285])"
      ]
     },
     "execution_count": 251,
     "metadata": {},
     "output_type": "execute_result"
    }
   ],
   "source": [
    "val_set.dataset.X_data.shape"
   ]
  },
  {
   "cell_type": "code",
   "execution_count": 214,
   "metadata": {},
   "outputs": [],
   "source": [
    "train_mean = train_set.dataset.X_data.mean(axis=0)\n",
    "train_std = train_set.dataset.X_data.std(axis=0)"
   ]
  },
  {
   "cell_type": "code",
   "execution_count": 215,
   "metadata": {},
   "outputs": [
    {
     "data": {
      "text/plain": [
       "tensor([[3.0170, 3.3568, 3.4841,  ..., 6.4074, 5.3766, 3.9305],\n",
       "        [3.6188, 3.5273, 4.7152,  ..., 3.0307, 4.2516, 3.0500],\n",
       "        [3.8793, 2.8296, 3.3266,  ..., 2.8132, 2.7921, 3.0823],\n",
       "        [2.9310, 3.4961, 2.6510,  ..., 3.5152, 3.1644, 3.2864],\n",
       "        [3.4118, 4.1567, 3.8075,  ..., 3.3437, 3.3566, 2.9329],\n",
       "        [5.2120, 3.8428, 3.5276,  ..., 2.9273, 5.5194, 3.7395]])"
      ]
     },
     "execution_count": 215,
     "metadata": {},
     "output_type": "execute_result"
    }
   ],
   "source": [
    "train_std"
   ]
  },
  {
   "cell_type": "code",
   "execution_count": 216,
   "metadata": {},
   "outputs": [
    {
     "data": {
      "text/plain": [
       "tensor(-6.4494)"
      ]
     },
     "execution_count": 216,
     "metadata": {},
     "output_type": "execute_result"
    }
   ],
   "source": [
    "train_set.dataset.X_data.mean()"
   ]
  },
  {
   "cell_type": "code",
   "execution_count": 225,
   "metadata": {},
   "outputs": [],
   "source": [
    "train_mean = train_set.dataset.X_data.mean(axis=0)\n",
    "train_std = train_set.dataset.X_data.std(axis=0)"
   ]
  },
  {
   "cell_type": "code",
   "execution_count": 228,
   "metadata": {},
   "outputs": [],
   "source": [
    "train_set.dataset.X_data -= train_mean\n",
    "train_set.dataset.X_data /= train_std\n",
    "\n",
    "val_set.dataset.X_data -= train_mean\n",
    "val_set.dataset.X_data /= train_std"
   ]
  },
  {
   "cell_type": "code",
   "execution_count": 227,
   "metadata": {},
   "outputs": [
    {
     "data": {
      "text/plain": [
       "tensor([[-7.4506e-09,  1.4901e-08, -7.4506e-09,  ...,  3.7253e-09,\n",
       "          0.0000e+00, -3.7253e-09],\n",
       "        [-7.4506e-09, -7.4506e-09,  1.4901e-08,  ...,  0.0000e+00,\n",
       "         -3.7253e-08,  7.4506e-09],\n",
       "        [-1.4901e-08, -1.4901e-08, -2.9802e-08,  ..., -1.4901e-08,\n",
       "         -1.4901e-08,  1.4901e-08],\n",
       "        [ 0.0000e+00,  0.0000e+00,  0.0000e+00,  ...,  1.3039e-08,\n",
       "          0.0000e+00,  0.0000e+00],\n",
       "        [-7.4506e-09, -7.4506e-09, -2.9802e-08,  ...,  0.0000e+00,\n",
       "         -1.4901e-08,  0.0000e+00],\n",
       "        [-8.1491e-09, -2.2352e-08,  0.0000e+00,  ...,  1.4901e-08,\n",
       "         -7.4506e-09,  1.9558e-08]])"
      ]
     },
     "execution_count": 227,
     "metadata": {},
     "output_type": "execute_result"
    }
   ],
   "source": [
    "train_set.dataset.X_data.mean(axis=0)"
   ]
  },
  {
   "cell_type": "code",
   "execution_count": 231,
   "metadata": {},
   "outputs": [
    {
     "data": {
      "text/plain": [
       "tensor([[1.0000, 1.0000, 1.0000,  ..., 1.0000, 1.0000, 1.0000],\n",
       "        [1.0000, 1.0000, 1.0000,  ..., 1.0000, 1.0000, 1.0000],\n",
       "        [1.0000, 1.0000, 1.0000,  ..., 1.0000, 1.0000, 1.0000],\n",
       "        [1.0000, 1.0000, 1.0000,  ..., 1.0000, 1.0000, 1.0000],\n",
       "        [1.0000, 1.0000, 1.0000,  ..., 1.0000, 1.0000, 1.0000],\n",
       "        [1.0000, 1.0000, 1.0000,  ..., 1.0000, 1.0000, 1.0000]])"
      ]
     },
     "execution_count": 231,
     "metadata": {},
     "output_type": "execute_result"
    }
   ],
   "source": [
    "val_set.dataset.X_data.std(axis=0)"
   ]
  },
  {
   "cell_type": "code",
   "execution_count": 74,
   "metadata": {},
   "outputs": [],
   "source": [
    "train_loader = torch.utils.data.DataLoader(train_set, \n",
    "                                           batch_size=4,\n",
    "                                           shuffle=True, drop_last=False)\n"
   ]
  },
  {
   "cell_type": "code",
   "execution_count": 120,
   "metadata": {},
   "outputs": [],
   "source": [
    "class BadModel(nn.Module):\n",
    "\n",
    "    def __init__(self, num_conv_outer, num_conv_inner, ksize, \n",
    "                 num_hidden=1, num_unit=100, nchannel_base=6, num_class=10):\n",
    "        super(BadModel, self).__init__()\n",
    "        \n",
    "        indim = 6\n",
    "        cur_w = 2285\n",
    "        \n",
    "        self.Conv1d = nn.Conv1d\n",
    "        self.Activation = nn.ReLU\n",
    "        self.num_hidden = num_hidden\n",
    "        self.Pool1d = nn.MaxPool1d\n",
    "        self.Linear = nn.Linear\n",
    "        self.num_conv_outer = num_conv_outer\n",
    "        self.num_conv_inner = num_conv_inner\n",
    "        \n",
    "        outdim = None\n",
    "        for _i in range(num_conv_outer):\n",
    "            outdim = nchannel_base * 2 ** _i\n",
    "            for _j in range(num_conv_inner):\n",
    "                setattr(self, f\"conv_conv1d_{_i}_{_j}\", self.Conv1d(indim, outdim, ksize))\n",
    "                setattr(self, f\"conv_relu_{_i}_{_j}\", self.Activation())\n",
    "                cur_w = (cur_w - ksize) + 1\n",
    "                indim = outdim\n",
    "\n",
    "            setattr(self, f\"conv_pool_{_i}\", self.Pool1d(2, 2))\n",
    "            cur_w = (cur_w - 2) // 2 + 1\n",
    "\n",
    "        indim = outdim * cur_w\n",
    "        for _i in range(num_hidden):\n",
    "            outdim = num_unit\n",
    "            setattr(self, f\"fc_linear_{_i}\", self.Linear(indim, outdim))\n",
    "            setattr(self, f\"fc_relu_{_i}\", self.Activation())\n",
    "            indim = outdim\n",
    "            \n",
    "        self.output = nn.Linear(indim, num_class)\n",
    "        self.softmax = nn.Softmax()\n",
    "\n",
    "        print(self)\n",
    "        \n",
    "    def forward(self, x):\n",
    "        for _i in range(self.num_conv_outer):\n",
    "            for _j in range(self.num_conv_inner):\n",
    "                x = getattr(self, f\"conv_conv1d_{_i}_{_j}\")(x)\n",
    "                x = getattr(self, f\"conv_relu_{_i}_{_j}\")(x)\n",
    "            x = getattr(self, f\"conv_pool_{_i}\")(x)\n",
    "\n",
    "        # Flatten\n",
    "        x = x.view(x.shape[0], -1)\n",
    "        \n",
    "        # Apply the fully connected layers\n",
    "        for _i in range(self.num_hidden):\n",
    "            x = getattr(self, \"fc_linear_{}\".format(_i))(x)\n",
    "            x = getattr(self, \"fc_relu_{}\".format(_i))(x)\n",
    "        x = self.output(x)\n",
    "\n",
    "        # softmax on the swing type classes\n",
    "        swing_type = self.softmax(x[:,:-1])\n",
    "        \n",
    "        # concatenate back with the distance regression\n",
    "        x= torch.cat([swing_type, x[:,-1:]], axis=1)\n",
    "        \n",
    "        return x"
   ]
  },
  {
   "cell_type": "code",
   "execution_count": 143,
   "metadata": {},
   "outputs": [
    {
     "name": "stdout",
     "output_type": "stream",
     "text": [
      "BadModel(\n",
      "  (conv_conv1d_0_0): Conv1d(6, 6, kernel_size=(3,), stride=(1,))\n",
      "  (conv_relu_0_0): ReLU()\n",
      "  (conv_pool_0): MaxPool1d(kernel_size=2, stride=2, padding=0, dilation=1, ceil_mode=False)\n",
      "  (conv_conv1d_1_0): Conv1d(6, 12, kernel_size=(3,), stride=(1,))\n",
      "  (conv_relu_1_0): ReLU()\n",
      "  (conv_pool_1): MaxPool1d(kernel_size=2, stride=2, padding=0, dilation=1, ceil_mode=False)\n",
      "  (conv_conv1d_2_0): Conv1d(12, 24, kernel_size=(3,), stride=(1,))\n",
      "  (conv_relu_2_0): ReLU()\n",
      "  (conv_pool_2): MaxPool1d(kernel_size=2, stride=2, padding=0, dilation=1, ceil_mode=False)\n",
      "  (conv_conv1d_3_0): Conv1d(24, 48, kernel_size=(3,), stride=(1,))\n",
      "  (conv_relu_3_0): ReLU()\n",
      "  (conv_pool_3): MaxPool1d(kernel_size=2, stride=2, padding=0, dilation=1, ceil_mode=False)\n",
      "  (conv_conv1d_4_0): Conv1d(48, 96, kernel_size=(3,), stride=(1,))\n",
      "  (conv_relu_4_0): ReLU()\n",
      "  (conv_pool_4): MaxPool1d(kernel_size=2, stride=2, padding=0, dilation=1, ceil_mode=False)\n",
      "  (fc_linear_0): Linear(in_features=6624, out_features=100, bias=True)\n",
      "  (fc_relu_0): ReLU()\n",
      "  (output): Linear(in_features=100, out_features=10, bias=True)\n",
      "  (softmax): Softmax(dim=None)\n",
      ")\n"
     ]
    }
   ],
   "source": [
    "bestmodel_file = os.path.join(\"weights\", \"best_model.pth\")\n",
    "\n",
    "model = BadModel(5, 1, 3)\n",
    "# model = MSResNet(input_channel=6, num_classes=10)\n",
    "\n",
    "swing_type_loss = nn.BCELoss()\n",
    "distance_loss = nn.MSELoss()\n",
    "optimizer = torch.optim.Adam(model.parameters(), lr=0.001)\n",
    "\n",
    "losses = []\n",
    "va_losses = []\n",
    "num_epochs = 10\n",
    "iter_idx = -1\n",
    "best_va_loss = 9999 \n",
    "val_interval = 50\n",
    "report_interval = 10"
   ]
  },
  {
   "cell_type": "code",
   "execution_count": 147,
   "metadata": {},
   "outputs": [
    {
     "name": "stderr",
     "output_type": "stream",
     "text": [
      "Epoch   0:   0%|          | 0/1 [00:00<?, ?it/s]<ipython-input-120-26b3bfefb6e0>:59: UserWarning: Implicit dimension choice for softmax has been deprecated. Change the call to include dim=X as an argument.\n",
      "  swing_type = self.softmax(x[:,:-1])\n",
      "Epoch   0: 100%|██████████| 1/1 [00:00<00:00, 44.18it/s]\n",
      "Epoch   1: 100%|██████████| 1/1 [00:00<00:00, 47.07it/s]\n",
      "Epoch   2: 100%|██████████| 1/1 [00:00<00:00, 45.73it/s]\n",
      "Epoch   3: 100%|██████████| 1/1 [00:00<00:00, 49.65it/s]\n",
      "Epoch   4: 100%|██████████| 1/1 [00:00<00:00, 48.68it/s]\n",
      "Epoch   5: 100%|██████████| 1/1 [00:00<00:00, 49.52it/s]\n",
      "Epoch   6: 100%|██████████| 1/1 [00:00<00:00, 46.20it/s]\n",
      "Epoch   7: 100%|██████████| 1/1 [00:00<00:00, 40.80it/s]\n",
      "Epoch   8: 100%|██████████| 1/1 [00:00<00:00, 46.19it/s]\n",
      "Epoch   9: 100%|██████████| 1/1 [00:00<00:00, 43.38it/s]\n"
     ]
    }
   ],
   "source": [
    "loss_history = []\n",
    "epochs = 10\n",
    "for e in range(epochs):\n",
    "    prefix = \"Epoch {:3d}: \".format(e)\n",
    "    for data in tqdm(train_loader, desc=prefix):\n",
    "#     for data in train_loader:\n",
    "        iter_idx += 1\n",
    "        X_train, y = data\n",
    "        X_train = X_train.to(device)\n",
    "        y = y.to(device)\n",
    "        \n",
    "        optimizer.zero_grad()\n",
    "        \n",
    "        outputs = model(X_train.float())\n",
    "        \n",
    "        swing_loss = swing_type_loss(outputs[:, :-1], y[:, :-1])\n",
    "        dist_loss =  distance_loss(outputs[:, -1:], y[:, -1:])\n",
    "        loss = swing_loss + dist_loss\n",
    "        \n",
    "        loss.backward()\n",
    "        optimizer.step()\n",
    "        \n",
    "        loss_history.append(loss.item())"
   ]
  },
  {
   "cell_type": "code",
   "execution_count": 150,
   "metadata": {},
   "outputs": [
    {
     "data": {
      "text/plain": [
       "[<matplotlib.lines.Line2D at 0x7f9a6f133280>]"
      ]
     },
     "execution_count": 150,
     "metadata": {},
     "output_type": "execute_result"
    },
    {
     "data": {
      "image/png": "[encoded data removed]",
      "text/plain": [
       "<Figure size 432x288 with 1 Axes>"
      ]
     },
     "metadata": {
      "needs_background": "light"
     },
     "output_type": "display_data"
    }
   ],
   "source": [
    "plt.plot(loss_history)"
   ]
  },
  {
   "cell_type": "code",
   "execution_count": null,
   "metadata": {},
   "outputs": [],
   "source": []
  },
  {
   "cell_type": "code",
   "execution_count": null,
   "metadata": {},
   "outputs": [],
   "source": []
  }
 ],
 "metadata": {
  "kernelspec": {
   "display_name": "Python 3",
   "language": "python",
   "name": "python3"
  },
  "language_info": {
   "codemirror_mode": {
    "name": "ipython",
    "version": 3
   },
   "file_extension": ".py",
   "mimetype": "text/x-python",
   "name": "python",
   "nbconvert_exporter": "python",
   "pygments_lexer": "ipython3",
   "version": "3.8.3"
  }
 },
 "nbformat": 4,
 "nbformat_minor": 4
}
