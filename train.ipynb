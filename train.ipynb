{
 "cells": [
  {
   "cell_type": "code",
   "execution_count": 1,
   "metadata": {},
   "outputs": [],
   "source": [
    "import os\n",
    "import glob\n",
    "\n",
    "import numpy as np\n",
    "import pandas as pd\n",
    "import torch\n",
    "from torch import nn\n",
    "import matplotlib.pyplot as plt\n",
    "from tqdm import tqdm, trange\n",
    "\n",
    "# from model import MSResNet"
   ]
  },
  {
   "cell_type": "code",
   "execution_count": 2,
   "metadata": {},
   "outputs": [],
   "source": [
    "os.environ['KMP_DUPLICATE_LIB_OK'] = 'True'"
   ]
  },
  {
   "cell_type": "code",
   "execution_count": 3,
   "metadata": {},
   "outputs": [],
   "source": [
    "shot_types = 9\n",
    "other_metrics = 1\n",
    "total_metics = 10"
   ]
  },
  {
   "cell_type": "code",
   "execution_count": 4,
   "metadata": {},
   "outputs": [],
   "source": [
    "device = torch.device(\"cuda:0\" if torch.cuda.is_available() else \"cpu\")"
   ]
  },
  {
   "cell_type": "code",
   "execution_count": 5,
   "metadata": {},
   "outputs": [],
   "source": [
    "path = \"data/\""
   ]
  },
  {
   "cell_type": "code",
   "execution_count": 6,
   "metadata": {},
   "outputs": [],
   "source": [
    "shot_types = [\"Pull-hook\", \"Hook\", \"Pull\", \"Fade\", \"Straight\", \"Draw\", \"Push\", \"Slice\" , \"Push-slice\"]"
   ]
  },
  {
   "cell_type": "code",
   "execution_count": 7,
   "metadata": {},
   "outputs": [],
   "source": [
    "def plot_swing(swing_data, shot_type=None, dist=None):\n",
    "    \"\"\"\n",
    "    swing_data: Dx6 array of IMU data\n",
    "    \"\"\"\n",
    "    \n",
    "    columns = [\"Ax\", \"Ay\", \"Az\", \"Gx\", \"Gy\", \"Gz\"]\n",
    "    plt.figure(figsize=(15,7))\n",
    "    for idx, line in enumerate(swing_data):\n",
    "        plt.subplot(2,3,idx+1)\n",
    "        plt.title(columns[idx])\n",
    "        plt.plot(line)\n",
    "    if shot_type is not None:\n",
    "        plt.suptitle(f\"{shot_type}, {dist}yds\")"
   ]
  },
  {
   "cell_type": "code",
   "execution_count": 8,
   "metadata": {},
   "outputs": [],
   "source": [
    "X_data = []\n",
    "y_data = [] \n",
    "# for i in range(100):\n",
    "for csv in glob.glob(path + \"*.csv\"):\n",
    "    x = pd.read_csv(csv).drop(columns=\"Unnamed: 0\")\n",
    "    y = np.zeros(total_metics)\n",
    "    y[x[\"shot_type\"][0]] = 1\n",
    "    y[-1] = x[\"distance\"][0]\n",
    "    x_values = x.values[:, :-2].T\n",
    "    X_data.append(x_values)\n",
    "    y_data.append(y)\n",
    "        \n",
    "X_data = np.array(X_data)\n",
    "y_data = np.array(y_data)"
   ]
  },
  {
   "cell_type": "code",
   "execution_count": 9,
   "metadata": {},
   "outputs": [],
   "source": [
    "def plot_counts(y):\n",
    "    pd.Series(np.argmax(y[:, :-1],axis=1)).value_counts(sort=False).plot.bar().set(ylabel=\"Count\")"
   ]
  },
  {
   "cell_type": "code",
   "execution_count": 10,
   "metadata": {},
   "outputs": [
    {
     "data": {
      "image/png": "[encoded data removed]",
      "text/plain": [
       "<Figure size 432x288 with 1 Axes>"
      ]
     },
     "metadata": {
      "needs_background": "light"
     },
     "output_type": "display_data"
    }
   ],
   "source": [
    "plot_counts(y_data)"
   ]
  },
  {
   "cell_type": "code",
   "execution_count": 11,
   "metadata": {},
   "outputs": [
    {
     "data": {
      "text/plain": [
       "110"
      ]
     },
     "execution_count": 11,
     "metadata": {},
     "output_type": "execute_result"
    }
   ],
   "source": [
    "len(glob.glob(path + \"*.csv\"))"
   ]
  },
  {
   "cell_type": "code",
   "execution_count": 12,
   "metadata": {},
   "outputs": [],
   "source": [
    "# n=0\n",
    "# for x, y in zip(X_data, y_data):\n",
    "#     print(glob.glob(path + \"*.csv\")[n] + \" \" + str(n))\n",
    "#     stype = np.argmax\n",
    "#     plot_swing(x, shot_types[np.argmax(y[:-1])], int(y[-1]))\n",
    "#     plt.show()\n",
    "#     n+=1"
   ]
  },
  {
   "cell_type": "code",
   "execution_count": 13,
   "metadata": {},
   "outputs": [],
   "source": [
    "n = X_data.shape[0]\n",
    "\n",
    "# GENERATE DATA SPLITS\n",
    "train = 0.75\n",
    "val = 0.2\n",
    "test = 0.05\n",
    "\n",
    "X_train = X_data[:int(n*train),:,:] \n",
    "y_train = y_data[:int(n*train),:]\n",
    "\n",
    "X_val = X_data[int(n*train):int(n*(val+train)),:,:]\n",
    "y_val = y_data[int(n*train):int(n*(val+train)),:]\n",
    "\n",
    "X_test = X_data[-int(n*test):,:,:]\n",
    "y_test = y_data[-int(n*test):,:]\n",
    "\n",
    "# /GENERATE DATA SPLITS"
   ]
  },
  {
   "cell_type": "code",
   "execution_count": 14,
   "metadata": {},
   "outputs": [
    {
     "data": {
      "text/plain": [
       "((82, 6, 500), (22, 6, 500), (5, 6, 500))"
      ]
     },
     "execution_count": 14,
     "metadata": {},
     "output_type": "execute_result"
    }
   ],
   "source": [
    "X_train.shape, X_val.shape, X_test.shape"
   ]
  },
  {
   "cell_type": "code",
   "execution_count": 15,
   "metadata": {},
   "outputs": [
    {
     "data": {
      "image/png": "[encoded data removed]",
      "text/plain": [
       "<Figure size 432x288 with 1 Axes>"
      ]
     },
     "metadata": {
      "needs_background": "light"
     },
     "output_type": "display_data"
    }
   ],
   "source": [
    "plot_counts(y_train)"
   ]
  },
  {
   "cell_type": "code",
   "execution_count": 16,
   "metadata": {},
   "outputs": [
    {
     "data": {
      "image/png": "[encoded data removed]",
      "text/plain": [
       "<Figure size 432x288 with 1 Axes>"
      ]
     },
     "metadata": {
      "needs_background": "light"
     },
     "output_type": "display_data"
    }
   ],
   "source": [
    "plot_counts(y_val)"
   ]
  },
  {
   "cell_type": "code",
   "execution_count": 17,
   "metadata": {},
   "outputs": [],
   "source": [
    "def norm(x, m, s):\n",
    "    return (x - m) / s"
   ]
  },
  {
   "cell_type": "code",
   "execution_count": 18,
   "metadata": {},
   "outputs": [],
   "source": [
    "def augment(X):\n",
    "    return torch.roll(X * np.random.uniform(low=0.8, high=1.1), np.random.randint(-150,150))"
   ]
  },
  {
   "cell_type": "code",
   "execution_count": 19,
   "metadata": {},
   "outputs": [],
   "source": [
    "class SwingDataset(torch.utils.data.Dataset):\n",
    "    def __init__(self, X_data, y_data, mean=None, std=None, y_mean=None, y_std=None, augment=False):\n",
    "        super().__init__()\n",
    "        self.X_data = torch.Tensor(X_data)\n",
    "        self.y_data = torch.Tensor(y_data)\n",
    "        self.augment = augment\n",
    "        \n",
    "        \n",
    "        if mean is None: # assume that all the other values are None as well, this is the training set and we need to compute the mean/std\n",
    "            self.mean = X_data.mean(axis=0)\n",
    "            self.std = X_data.std(axis=0)\n",
    "            self.y_dist_mean = y_data[:, -1].mean()\n",
    "            self.y_dist_std = y_data[:, -1].std()\n",
    "        else:\n",
    "            self.mean = mean\n",
    "            self.std = std\n",
    "            self.y_dist_mean = y_mean\n",
    "            self.y_dist_std = y_std\n",
    "        \n",
    "    def __len__(self):\n",
    "        return self.X_data.shape[0]\n",
    "    \n",
    "    def __getitem__(self, idx):\n",
    "        X = self.X_data[idx].clone()  # clone or else the normalization overwrites the actual tensor\n",
    "        y = self.y_data[idx].clone()\n",
    "        \n",
    "        if self.augment:\n",
    "            X = augment(X)\n",
    "        \n",
    "        X = norm(X, self.mean, self.std)\n",
    "        y[-1] = norm(y[-1], self.y_dist_mean, self.y_dist_std) \n",
    "        \n",
    "        return X, y "
   ]
  },
  {
   "cell_type": "code",
   "execution_count": 20,
   "metadata": {},
   "outputs": [],
   "source": [
    "train_set = SwingDataset(X_train, y_train, augment=True)\n",
    "val_set = SwingDataset(X_val, y_val, mean=train_set.mean, std=train_set.std, y_mean=train_set.y_dist_mean, y_std=train_set.y_dist_std)\n",
    "test_set = SwingDataset(X_test, y_test, mean=train_set.mean, std=train_set.std, y_mean=train_set.y_dist_mean, y_std=train_set.y_dist_std)"
   ]
  },
  {
   "cell_type": "code",
   "execution_count": 21,
   "metadata": {},
   "outputs": [
    {
     "data": {
      "image/png": "[encoded data removed]",
      "text/plain": [
       "<Figure size 432x288 with 1 Axes>"
      ]
     },
     "metadata": {
      "needs_background": "light"
     },
     "output_type": "display_data"
    }
   ],
   "source": [
    "# test the data augmentation\n",
    "plt.plot(train_set.X_data[0][0],alpha=0.5)\n",
    "for _ in range(10):\n",
    "    plt.plot(augment(train_set.X_data[0][0]), alpha=0.5)\n",
    "plt.show()"
   ]
  },
  {
   "cell_type": "code",
   "execution_count": 23,
   "metadata": {},
   "outputs": [],
   "source": [
    "train_loader = torch.utils.data.DataLoader(train_set, batch_size=4, drop_last=False, shuffle=True)\n",
    "val_loader = torch.utils.data.DataLoader(val_set, batch_size=4, drop_last=False, shuffle=True)"
   ]
  },
  {
   "cell_type": "code",
   "execution_count": 24,
   "metadata": {},
   "outputs": [],
   "source": [
    "class BadModel(nn.Module):\n",
    "\n",
    "    def __init__(self, num_conv_outer, num_conv_inner, ksize, \n",
    "                 num_hidden=1, num_unit=100, nchannel_base=6, num_class=10):\n",
    "        super(BadModel, self).__init__()\n",
    "        \n",
    "        # 6 dims from ax,ay,az,gx,gy,gz\n",
    "        indim = 6\n",
    "        \n",
    "        # TODO: Set this to whatever the truncated input length is\n",
    "        # or better yet, determine it dynamically \n",
    "        cur_w = 500\n",
    "        \n",
    "        self.num_hidden = num_hidden\n",
    "        self.num_conv_outer = num_conv_outer\n",
    "        self.num_conv_inner = num_conv_inner\n",
    "        \n",
    "        outdim = None\n",
    "        for _i in range(num_conv_outer):\n",
    "            outdim = nchannel_base * 2 ** _i\n",
    "            for _j in range(num_conv_inner):\n",
    "                setattr(self, f\"conv_conv1d_{_i}_{_j}\", nn.Conv1d(indim, outdim, ksize))\n",
    "                setattr(self, f\"conv_relu_{_i}_{_j}\", nn.ReLU())\n",
    "                cur_w = (cur_w - ksize) + 1\n",
    "                indim = outdim\n",
    "\n",
    "            setattr(self, f\"conv_pool_{_i}\", nn.MaxPool1d(2, 2))\n",
    "            cur_w = (cur_w - 2) // 2 + 1\n",
    "\n",
    "        indim = outdim * cur_w\n",
    "        for _i in range(num_hidden):\n",
    "            outdim = num_unit\n",
    "            setattr(self, f\"fc_linear_{_i}\", nn.Linear(indim, outdim))\n",
    "            setattr(self, f\"fc_relu_{_i}\", nn.ReLU())\n",
    "            indim = outdim\n",
    "            \n",
    "        self.output = nn.Linear(indim, num_class)\n",
    "        self.softmax = nn.Softmax(dim=1)\n",
    "\n",
    "#         print(self)\n",
    "        \n",
    "    def forward(self, x):\n",
    "        for _i in range(self.num_conv_outer):\n",
    "            for _j in range(self.num_conv_inner):\n",
    "                x = getattr(self, f\"conv_conv1d_{_i}_{_j}\")(x)\n",
    "                x = getattr(self, f\"conv_relu_{_i}_{_j}\")(x)\n",
    "            x = getattr(self, f\"conv_pool_{_i}\")(x)\n",
    "\n",
    "        # Flatten\n",
    "        x = x.view(x.shape[0], -1)\n",
    "        \n",
    "        # Apply the fully connected layers\n",
    "        for _i in range(self.num_hidden):\n",
    "            x = getattr(self, \"fc_linear_{}\".format(_i))(x)\n",
    "            x = getattr(self, \"fc_relu_{}\".format(_i))(x)\n",
    "        x = self.output(x)\n",
    "\n",
    "        # softmax on the swing type classes\n",
    "        swing_type = self.softmax(x[:,:-1])\n",
    "        \n",
    "        # concatenate back with the distance regression\n",
    "        x = torch.cat([swing_type, x[:,-1:]], axis=1)\n",
    "        \n",
    "        return x"
   ]
  },
  {
   "cell_type": "code",
   "execution_count": 25,
   "metadata": {},
   "outputs": [],
   "source": [
    "bestmodel_file = os.path.join(\"weights\", \"best_model.pth\")\n",
    "\n",
    "model = BadModel(5, 1, 3).to(device)\n",
    "# model = MSResNet(input_channel=6, num_classes=10)\n",
    "\n",
    "swing_type_loss = nn.BCELoss()\n",
    "distance_loss = nn.MSELoss()\n",
    "optimizer = torch.optim.Adam(model.parameters(), lr=0.001)\n",
    "\n",
    "losses = []\n",
    "va_losses = []\n",
    "num_epochs = 10\n",
    "iter_idx = -1\n",
    "best_va_loss = 9999 \n",
    "val_interval = 50\n",
    "report_interval = 10"
   ]
  },
  {
   "cell_type": "code",
   "execution_count": 60,
   "metadata": {},
   "outputs": [
    {
     "name": "stdout",
     "output_type": "stream",
     "text": [
      "99\r"
     ]
    }
   ],
   "source": [
    "loss_history = []\n",
    "epochs = 100\n",
    "for e in range(epochs):\n",
    "    prefix = \"Epoch {:3d}: \".format(e)\n",
    "#     for data in tqdm(train_loader, desc=prefix):\n",
    "    for data in train_loader:\n",
    "        print(e, end=\"\\r\", flush=True)\n",
    "        iter_idx += 1\n",
    "        X_train, y = data\n",
    "        X_train = X_train.to(device)\n",
    "        y = y.to(device)\n",
    "        \n",
    "        optimizer.zero_grad()\n",
    "        \n",
    "        outputs = model(X_train.float())\n",
    "        \n",
    "        swing_loss = swing_type_loss(outputs[:, :-1], y[:, :-1])\n",
    "        dist_loss =  distance_loss(outputs[:, -1:], y[:, -1:])\n",
    "        loss = swing_loss + dist_loss\n",
    "        \n",
    "        loss.backward()\n",
    "        optimizer.step()\n",
    "        \n",
    "        loss_history.append(loss.item())\n",
    "        if iter_idx % val_interval == 0:\n",
    "            va_loss = []\n",
    "            model = model.eval()\n",
    "            for data in val_loader:\n",
    "                X_va, y_va = data\n",
    "                X_va = X_va.to(device)\n",
    "                y_va = y_va.to(device)\n",
    "                with torch.no_grad():\n",
    "                    outputs_va = model(X_va.float())               \n",
    "                    swing_loss = swing_type_loss(outputs_va[:, :-1], y_va[:, :-1])\n",
    "                    dist_loss =  distance_loss(outputs_va[:, -1:], y_va[:, -1:])\n",
    "                    loss = swing_loss + dist_loss\n",
    "                    va_loss += [loss.cpu().numpy()]\n",
    "                    \n",
    "            model = model.train()\n",
    "            va_loss = np.mean(va_loss)\n",
    "            va_losses.append(va_loss)\n",
    "            \n",
    "            if va_loss < best_va_loss:\n",
    "                best_va_loss = va_loss\n",
    "                torch.save({\n",
    "                    \"iter_idx\": iter_idx,\n",
    "                    \"best_va_loss\": best_va_loss,\n",
    "                    \"model\": model.state_dict(),\n",
    "                    \"optimizer\": optimizer.state_dict(),\n",
    "                }, bestmodel_file)"
   ]
  },
  {
   "cell_type": "code",
   "execution_count": 71,
   "metadata": {},
   "outputs": [
    {
     "data": {
      "text/plain": [
       "[<matplotlib.lines.Line2D at 0x7f98014ed550>]"
      ]
     },
     "execution_count": 71,
     "metadata": {},
     "output_type": "execute_result"
    },
    {
     "data": {
      "image/png": "[encoded data removed]",
      "text/plain": [
       "<Figure size 432x288 with 1 Axes>"
      ]
     },
     "metadata": {
      "needs_background": "light"
     },
     "output_type": "display_data"
    }
   ],
   "source": [
    "plt.plot(va_losses)"
   ]
  },
  {
   "cell_type": "code",
   "execution_count": 62,
   "metadata": {},
   "outputs": [],
   "source": [
    "def print_preds(predicitons, truth, mean, std):\n",
    "    for pred, true in zip(predicitons, truth):\n",
    "        pred_distance = pred[-1] * std + mean\n",
    "        pred_argmax = torch.argmax(pred[:-1])\n",
    "        pred_shot_type = shot_types[pred_argmax]\n",
    "        print(f\"Pred: {pred_shot_type} {round(pred_distance.item())}yds\")\n",
    "        \n",
    "        true_distance = true[-1] * std + mean\n",
    "        true_argmax = torch.argmax(true[:-1])\n",
    "        true_shot_type = shot_types[true_argmax]\n",
    "        \n",
    "        print(f\"True: {true_shot_type} {round(true_distance.item())}yds\")\n",
    "        print()"
   ]
  },
  {
   "cell_type": "code",
   "execution_count": 63,
   "metadata": {},
   "outputs": [
    {
     "name": "stdout",
     "output_type": "stream",
     "text": [
      "Pred: Fade 139yds\n",
      "True: Straight 115yds\n",
      "\n",
      "Pred: Push-slice 72yds\n",
      "True: Pull-hook 70yds\n",
      "\n"
     ]
    }
   ],
   "source": [
    "print_preds(outputs, y, train_set.y_dist_mean, train_set.y_dist_std)"
   ]
  },
  {
   "cell_type": "code",
   "execution_count": 64,
   "metadata": {},
   "outputs": [
    {
     "name": "stdout",
     "output_type": "stream",
     "text": [
      "Pred: Straight 125yds\n",
      "True: Pull 145yds\n",
      "\n",
      "Pred: Straight 113yds\n",
      "True: Push-slice 70yds\n",
      "\n"
     ]
    }
   ],
   "source": [
    "print_preds(outputs_va, y_va, train_set.y_dist_mean, train_set.y_dist_std)"
   ]
  },
  {
   "cell_type": "markdown",
   "metadata": {},
   "source": [
    "# Test"
   ]
  },
  {
   "cell_type": "code",
   "execution_count": 65,
   "metadata": {},
   "outputs": [],
   "source": [
    "# normalization moved to the dataloader\n",
    "# X_test_norm = norm(X_test, train_mean, train_std)\n",
    "# y_test_norm = y_test.copy()\n",
    "# y_test_norm[:, -1] -= y_distance_mean\n",
    "# y_test_norm[:, -1] /= y_distance_std\n",
    "\n",
    "test_loader = torch.utils.data.DataLoader(test_set, batch_size=1, drop_last=False)"
   ]
  },
  {
   "cell_type": "code",
   "execution_count": 66,
   "metadata": {},
   "outputs": [
    {
     "name": "stdout",
     "output_type": "stream",
     "text": [
      "Test example 5: swing_loss = 0.241156, dist_loss = 0.187903\n",
      "Out of 5 test examples: avg_swing_loss = 0.309485, avg_dist_loss = 0.627218, avg_total_loss = 0.936704\n"
     ]
    }
   ],
   "source": [
    "swing_losses, dist_losses, total_losses, = [], [], []\n",
    "model = model.eval()\n",
    "idx = 0\n",
    "\n",
    "test_out = []\n",
    "true_out = []\n",
    "test_shot_types = []\n",
    "true_shot_types = []\n",
    "\n",
    "with torch.no_grad():\n",
    "    for data in test_loader:\n",
    "        idx += 1\n",
    "        x_test, y_test = data\n",
    "        x_test = x_test.to(device)\n",
    "        y_test = y_test.to(device)\n",
    "\n",
    "        outputs = model(x_test.float())\n",
    "        \n",
    "        swing_loss = swing_type_loss(outputs[:, :-1], y_test[:, :-1])\n",
    "        dist_loss =  distance_loss(outputs[:, -1:], y_test[:, -1:])\n",
    "        total_loss = swing_loss + dist_loss\n",
    "        \n",
    "        swing_losses += [swing_loss.cpu().numpy()]\n",
    "        dist_losses += [dist_loss.cpu().numpy()]\n",
    "        total_losses += [total_loss.cpu().numpy()]\n",
    "        \n",
    "        print(\"Test example %d: swing_loss = %f, dist_loss = %f\" % (idx, swing_losses[idx-1], dist_losses[idx-1]), end=\"\\r\", flush=True)\n",
    "  \n",
    "        test_out.append(outputs[0])\n",
    "        true_out.append(y_test[0])\n",
    "        test_shot_types.append(np.argmax(outputs[:, :-1]).item())\n",
    "        true_shot_types.append(np.argmax(y_test[:, :-1]).item())\n",
    "#         test_shot_dist.append(outputs[:,0].item())\n",
    "#         true_shot_dist.append(y_test[:,0].item())\n",
    "    \n",
    "    avg_swing_loss = np.mean(swing_losses)\n",
    "    avg_dist_loss = np.mean(dist_losses)\n",
    "    avg_total_loss = np.mean(total_losses)\n",
    "    print()\n",
    "    print(\"Out of %d test examples: avg_swing_loss = %f, avg_dist_loss = %f, avg_total_loss = %f\" % (idx, avg_swing_loss, avg_dist_loss, avg_total_loss))"
   ]
  },
  {
   "cell_type": "code",
   "execution_count": 67,
   "metadata": {},
   "outputs": [
    {
     "name": "stdout",
     "output_type": "stream",
     "text": [
      "Pred: Straight 126yds\n",
      "True: Slice 125yds\n",
      "\n",
      "Pred: Straight 114yds\n",
      "True: Push 145yds\n",
      "\n",
      "Pred: Straight 118yds\n",
      "True: Push-slice 70yds\n",
      "\n",
      "Pred: Straight 123yds\n",
      "True: Pull 145yds\n",
      "\n",
      "Pred: Straight 124yds\n",
      "True: Straight 140yds\n",
      "\n"
     ]
    }
   ],
   "source": [
    "print_preds(test_out, true_out, train_set.y_dist_mean, train_set.y_dist_std)"
   ]
  },
  {
   "cell_type": "code",
   "execution_count": 68,
   "metadata": {},
   "outputs": [],
   "source": [
    "from sklearn.metrics import confusion_matrix\n",
    "import seaborn as sn"
   ]
  },
  {
   "cell_type": "code",
   "execution_count": 69,
   "metadata": {},
   "outputs": [],
   "source": [
    "cm = confusion_matrix(true_shot_types, test_shot_types)"
   ]
  },
  {
   "cell_type": "code",
   "execution_count": 70,
   "metadata": {},
   "outputs": [
    {
     "data": {
      "text/plain": [
       "<AxesSubplot:>"
      ]
     },
     "execution_count": 70,
     "metadata": {},
     "output_type": "execute_result"
    },
    {
     "data": {
      "image/png": "[encoded data removed]",
      "text/plain": [
       "<Figure size 720x504 with 2 Axes>"
      ]
     },
     "metadata": {
      "needs_background": "light"
     },
     "output_type": "display_data"
    }
   ],
   "source": [
    "plt.figure(figsize = (10,7))\n",
    "sn.heatmap(cm, annot=True)"
   ]
  },
  {
   "cell_type": "code",
   "execution_count": null,
   "metadata": {},
   "outputs": [],
   "source": []
  }
 ],
 "metadata": {
  "kernelspec": {
   "display_name": "Python 3",
   "language": "python",
   "name": "python3"
  },
  "language_info": {
   "codemirror_mode": {
    "name": "ipython",
    "version": 3
   },
   "file_extension": ".py",
   "mimetype": "text/x-python",
   "name": "python",
   "nbconvert_exporter": "python",
   "pygments_lexer": "ipython3",
   "version": "3.8.3"
  }
 },
 "nbformat": 4,
 "nbformat_minor": 4
}
