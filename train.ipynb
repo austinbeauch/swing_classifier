{
 "cells": [
  {
   "cell_type": "code",
   "execution_count": 1,
   "metadata": {},
   "outputs": [],
   "source": [
    "import os\n",
    "import glob\n",
    "\n",
    "import numpy as np\n",
    "import pandas as pd\n",
    "import torch\n",
    "from torch import nn\n",
    "import matplotlib.pyplot as plt\n",
    "from tqdm import tqdm, trange\n",
    "\n",
    "# from model import MSResNet"
   ]
  },
  {
   "cell_type": "code",
   "execution_count": 2,
   "metadata": {},
   "outputs": [],
   "source": [
    "os.environ['KMP_DUPLICATE_LIB_OK'] = 'True'"
   ]
  },
  {
   "cell_type": "code",
   "execution_count": 3,
   "metadata": {},
   "outputs": [],
   "source": [
    "shot_types = 9\n",
    "other_metrics = 1\n",
    "total_metics = 10"
   ]
  },
  {
   "cell_type": "code",
   "execution_count": 4,
   "metadata": {},
   "outputs": [],
   "source": [
    "device = torch.device(\"cuda:0\" if torch.cuda.is_available() else \"cpu\")"
   ]
  },
  {
   "cell_type": "code",
   "execution_count": 5,
   "metadata": {},
   "outputs": [],
   "source": [
    "path = \"data/\""
   ]
  },
  {
   "cell_type": "code",
   "execution_count": 80,
   "metadata": {},
   "outputs": [
    {
     "data": {
      "text/plain": [
       "9"
      ]
     },
     "execution_count": 80,
     "metadata": {},
     "output_type": "execute_result"
    }
   ],
   "source": [
    "np.random.randint(10)"
   ]
  },
  {
   "cell_type": "code",
   "execution_count": 81,
   "metadata": {},
   "outputs": [],
   "source": [
    "X_data = []\n",
    "y_data = [] \n",
    "for i in range(100):\n",
    "    for csv in glob.glob(path + \"*.csv\"):\n",
    "        x = pd.read_csv(csv).drop(columns=\"Unnamed: 0\")\n",
    "        y = np.zeros(total_metics)\n",
    "        y[x[\"shot_type\"][0]] = 1\n",
    "        y[-1] = x[\"distance\"][0] + np.random.randint(10)\n",
    "        x_values = x.values[:, :-2].T + np.random.random(x.values[:, :-2].T.shape)\n",
    "        X_data.append(x_values)\n",
    "        y_data.append(y)\n",
    "        \n",
    "X_data = np.array(X_data)\n",
    "y_data = np.array(y_data)"
   ]
  },
  {
   "cell_type": "code",
   "execution_count": 82,
   "metadata": {},
   "outputs": [],
   "source": [
    "class SwingDataset(torch.utils.data.Dataset):\n",
    "    def __init__(self, X_data, y_data):\n",
    "        super().__init__()\n",
    "        self.X_data = torch.Tensor(X_data)\n",
    "        self.y_data = torch.Tensor(y_data)\n",
    "        \n",
    "    def __len__(self):\n",
    "        return self.X_data.shape[0]\n",
    "    \n",
    "    def __getitem__(self, idx):\n",
    "        return self.X_data[idx], self.y_data[idx]"
   ]
  },
  {
   "cell_type": "code",
   "execution_count": 83,
   "metadata": {},
   "outputs": [],
   "source": [
    "n = X_data.shape[0]"
   ]
  },
  {
   "cell_type": "code",
   "execution_count": 87,
   "metadata": {},
   "outputs": [],
   "source": [
    "# GENERATE DATA SPLITS\n",
    "train = 0.9\n",
    "val = 0.05\n",
    "test = 0.05\n",
    "\n",
    "X_train = X_data[:int(n*train),:,:] \n",
    "y_train = y_data[:int(n*train),:]\n",
    "\n",
    "X_val = X_data[int(n*train):int(n*(val+train)),:,:]\n",
    "y_val = y_data[int(n*train):int(n*(val+train)),:]\n",
    "\n",
    "X_test = X_data[-int(n*val):,:,:]\n",
    "y_test = y_data[-int(n*val):,:]\n",
    "\n",
    "# /GENERATE DATA SPLITS"
   ]
  },
  {
   "cell_type": "code",
   "execution_count": 88,
   "metadata": {},
   "outputs": [],
   "source": [
    "def norm(x, m, s):\n",
    "    return (x - m) / s"
   ]
  },
  {
   "cell_type": "code",
   "execution_count": 94,
   "metadata": {},
   "outputs": [
    {
     "data": {
      "text/plain": [
       "(90,)"
      ]
     },
     "execution_count": 94,
     "metadata": {},
     "output_type": "execute_result"
    }
   ],
   "source": [
    "y_train[:,-1].shape"
   ]
  },
  {
   "cell_type": "code",
   "execution_count": 95,
   "metadata": {},
   "outputs": [],
   "source": [
    "# NORMALIZE\n",
    "# TODO: save these mean/std cause we gon need it for running in inference mode\n",
    "train_mean = X_train.mean(axis=0)\n",
    "train_std = X_train.std(axis=0)\n",
    "\n",
    "y_distance_mean = y_train[:, -1].mean()\n",
    "y_distance_std = y_train[:, -1].std()"
   ]
  },
  {
   "cell_type": "code",
   "execution_count": 106,
   "metadata": {},
   "outputs": [],
   "source": [
    "X_train_norm = norm(X_train, train_mean, train_std)\n",
    "X_val_norm = norm(X_val, train_mean, train_std)\n",
    "\n",
    "y_train_norm = y_train.copy()\n",
    "y_val_norm = y_val.copy()\n",
    "y_train_norm[:, -1] -= y_distance_mean\n",
    "y_train_norm[:, -1] /= y_distance_std\n",
    "y_val_norm[:, -1] -= y_distance_mean\n",
    "y_val_norm[:, -1] /= y_distance_std"
   ]
  },
  {
   "cell_type": "code",
   "execution_count": 195,
   "metadata": {},
   "outputs": [],
   "source": [
    "train_set = SwingDataset(X_train_norm, y_train_norm)\n",
    "val_set = SwingDataset(X_val_norm, y_val_norm)\n",
    "# test_set = DiskDataset(X_test, y_test)\n",
    "\n",
    "train_loader = torch.utils.data.DataLoader(train_set, batch_size=4, drop_last=False)\n",
    "val_loader = torch.utils.data.DataLoader(val_set, batch_size=4, drop_last=False)"
   ]
  },
  {
   "cell_type": "code",
   "execution_count": 223,
   "metadata": {},
   "outputs": [],
   "source": [
    "class BadModel(nn.Module):\n",
    "\n",
    "    def __init__(self, num_conv_outer, num_conv_inner, ksize, \n",
    "                 num_hidden=1, num_unit=100, nchannel_base=6, num_class=10):\n",
    "        super(BadModel, self).__init__()\n",
    "        \n",
    "        # 6 dims from ax,ay,az,gx,gy,gz\n",
    "        indim = 6\n",
    "        \n",
    "        # TODO: Set this to whatever the truncated input length is\n",
    "        # or better yet, determine it dynamically \n",
    "        cur_w = 2285\n",
    "        \n",
    "        self.num_hidden = num_hidden\n",
    "        self.num_conv_outer = num_conv_outer\n",
    "        self.num_conv_inner = num_conv_inner\n",
    "        \n",
    "        outdim = None\n",
    "        for _i in range(num_conv_outer):\n",
    "            outdim = nchannel_base * 2 ** _i\n",
    "            for _j in range(num_conv_inner):\n",
    "                setattr(self, f\"conv_conv1d_{_i}_{_j}\", nn.Conv1d(indim, outdim, ksize))\n",
    "                setattr(self, f\"conv_relu_{_i}_{_j}\", nn.ReLU())\n",
    "                cur_w = (cur_w - ksize) + 1\n",
    "                indim = outdim\n",
    "\n",
    "            setattr(self, f\"conv_pool_{_i}\", nn.MaxPool1d(2, 2))\n",
    "            cur_w = (cur_w - 2) // 2 + 1\n",
    "\n",
    "        indim = outdim * cur_w\n",
    "        for _i in range(num_hidden):\n",
    "            outdim = num_unit\n",
    "            setattr(self, f\"fc_linear_{_i}\", nn.Linear(indim, outdim))\n",
    "            setattr(self, f\"fc_relu_{_i}\", nn.ReLU())\n",
    "            indim = outdim\n",
    "            \n",
    "        self.output = nn.Linear(indim, num_class)\n",
    "        self.softmax = nn.Softmax(dim=1)\n",
    "\n",
    "#         print(self)\n",
    "        \n",
    "    def forward(self, x):\n",
    "        for _i in range(self.num_conv_outer):\n",
    "            for _j in range(self.num_conv_inner):\n",
    "                x = getattr(self, f\"conv_conv1d_{_i}_{_j}\")(x)\n",
    "                x = getattr(self, f\"conv_relu_{_i}_{_j}\")(x)\n",
    "            x = getattr(self, f\"conv_pool_{_i}\")(x)\n",
    "\n",
    "        # Flatten\n",
    "        x = x.view(x.shape[0], -1)\n",
    "        \n",
    "        # Apply the fully connected layers\n",
    "        for _i in range(self.num_hidden):\n",
    "            x = getattr(self, \"fc_linear_{}\".format(_i))(x)\n",
    "            x = getattr(self, \"fc_relu_{}\".format(_i))(x)\n",
    "        x = self.output(x)\n",
    "\n",
    "        # softmax on the swing type classes\n",
    "        swing_type = self.softmax(x[:,:-1])\n",
    "        \n",
    "        # concatenate back with the distance regression\n",
    "        x = torch.cat([swing_type, x[:,-1:]], axis=1)\n",
    "        \n",
    "        return x"
   ]
  },
  {
   "cell_type": "code",
   "execution_count": 224,
   "metadata": {},
   "outputs": [],
   "source": [
    "bestmodel_file = os.path.join(\"weights\", \"best_model.pth\")\n",
    "\n",
    "model = BadModel(5, 1, 3).to(device)\n",
    "# model = MSResNet(input_channel=6, num_classes=10)\n",
    "\n",
    "swing_type_loss = nn.BCELoss()\n",
    "distance_loss = nn.MSELoss()\n",
    "optimizer = torch.optim.Adam(model.parameters(), lr=0.001)\n",
    "\n",
    "losses = []\n",
    "va_losses = []\n",
    "num_epochs = 10\n",
    "iter_idx = -1\n",
    "best_va_loss = 9999 \n",
    "val_interval = 50\n",
    "report_interval = 10"
   ]
  },
  {
   "cell_type": "code",
   "execution_count": 232,
   "metadata": {},
   "outputs": [
    {
     "name": "stderr",
     "output_type": "stream",
     "text": [
      "Epoch   0: 100%|██████████| 23/23 [00:00<00:00, 234.70it/s]\n",
      "Epoch   1: 100%|██████████| 23/23 [00:00<00:00, 272.08it/s]\n",
      "Epoch   2: 100%|██████████| 23/23 [00:00<00:00, 271.94it/s]\n",
      "Epoch   3: 100%|██████████| 23/23 [00:00<00:00, 263.50it/s]\n",
      "Epoch   4: 100%|██████████| 23/23 [00:00<00:00, 268.35it/s]\n",
      "Epoch   5: 100%|██████████| 23/23 [00:00<00:00, 267.37it/s]\n",
      "Epoch   6: 100%|██████████| 23/23 [00:00<00:00, 275.10it/s]\n",
      "Epoch   7: 100%|██████████| 23/23 [00:00<00:00, 266.82it/s]\n",
      "Epoch   8: 100%|██████████| 23/23 [00:00<00:00, 274.69it/s]\n",
      "Epoch   9: 100%|██████████| 23/23 [00:00<00:00, 207.87it/s]\n"
     ]
    }
   ],
   "source": [
    "loss_history = []\n",
    "epochs = 10\n",
    "for e in range(epochs):\n",
    "    prefix = \"Epoch {:3d}: \".format(e)\n",
    "    for data in tqdm(train_loader, desc=prefix):\n",
    "#     for data in train_loader:\n",
    "        iter_idx += 1\n",
    "        X_train, y = data\n",
    "        X_train = X_train.to(device)\n",
    "        y = y.to(device)\n",
    "        \n",
    "        optimizer.zero_grad()\n",
    "        \n",
    "        outputs = model(X_train.float())\n",
    "        \n",
    "        swing_loss = swing_type_loss(outputs[:, :-1], y[:, :-1])\n",
    "        dist_loss =  distance_loss(outputs[:, -1:], y[:, -1:])\n",
    "        loss = swing_loss + dist_loss\n",
    "        \n",
    "        loss.backward()\n",
    "        optimizer.step()\n",
    "        \n",
    "        loss_history.append(loss.item())\n",
    "        if iter_idx % val_interval == 0:\n",
    "            va_loss = []\n",
    "            model = model.eval()\n",
    "            for data in val_loader:\n",
    "                X_va, y_va = data\n",
    "                X_va = X_va.to(device)\n",
    "                y_va = y_va.to(device)\n",
    "                with torch.no_grad():\n",
    "                    outputs_va = model(X_va.float())               \n",
    "                    swing_loss = swing_type_loss(outputs_va[:, :-1], y_va[:, :-1])\n",
    "                    dist_loss =  distance_loss(outputs_va[:, -1:], y_va[:, -1:])\n",
    "                    loss = swing_loss + dist_loss\n",
    "                    va_loss += [loss.cpu().numpy()]\n",
    "                    \n",
    "            model = model.train()\n",
    "            va_loss = np.mean(va_loss)\n",
    "            va_losses.append(va_loss)\n",
    "            \n",
    "            if va_loss < best_va_loss:\n",
    "                best_va_loss = va_loss\n",
    "                torch.save({\n",
    "                    \"iter_idx\": iter_idx,\n",
    "                    \"best_va_loss\": best_va_loss,\n",
    "                    \"model\": model.state_dict(),\n",
    "                    \"optimizer\": optimizer.state_dict(),\n",
    "                }, bestmodel_file)"
   ]
  },
  {
   "cell_type": "code",
   "execution_count": 233,
   "metadata": {},
   "outputs": [
    {
     "data": {
      "text/plain": [
       "[<matplotlib.lines.Line2D at 0x7fea020aeb10>]"
      ]
     },
     "execution_count": 233,
     "metadata": {},
     "output_type": "execute_result"
    },
    {
     "data": {
      "image/png": "[encoded data removed]",
      "text/plain": [
       "<Figure size 432x288 with 1 Axes>"
      ]
     },
     "metadata": {
      "needs_background": "light"
     },
     "output_type": "display_data"
    }
   ],
   "source": [
    "plt.plot(loss_history)"
   ]
  },
  {
   "cell_type": "code",
   "execution_count": 234,
   "metadata": {},
   "outputs": [],
   "source": [
    "shot_types = [\"Pull-hook\", \"Hook\", \"Pull\", \"Fade\", \"Straight\", \"Draw\", \"Push\", \"Slice\" , \"Push-slice\"]"
   ]
  },
  {
   "cell_type": "code",
   "execution_count": 235,
   "metadata": {},
   "outputs": [],
   "source": [
    "def print_preds(predicitons, std, mean):\n",
    "    for pred in predicitons:\n",
    "        distance = pred[-1] * std + mean\n",
    "        argmax = torch.argmax(outputs[0][:-1])\n",
    "        shot_type = shot_types[argmax]\n",
    "        print(f\"Shot type: {shot_type}, distance: {round(distance.item())}yds\")"
   ]
  },
  {
   "cell_type": "code",
   "execution_count": 236,
   "metadata": {},
   "outputs": [
    {
     "name": "stdout",
     "output_type": "stream",
     "text": [
      "Shot type: Straight, distance: 156yds\n",
      "Shot type: Straight, distance: 156yds\n"
     ]
    }
   ],
   "source": [
    "print_preds(outputs, y_distance_std, y_distance_mean)"
   ]
  },
  {
   "cell_type": "code",
   "execution_count": 237,
   "metadata": {},
   "outputs": [
    {
     "data": {
      "text/plain": [
       "torch.Size([2, 10])"
      ]
     },
     "execution_count": 237,
     "metadata": {},
     "output_type": "execute_result"
    }
   ],
   "source": [
    "outputs.shape"
   ]
  },
  {
   "cell_type": "code",
   "execution_count": null,
   "metadata": {},
   "outputs": [],
   "source": [
    "# TODO: create a test loop or another test notebook"
   ]
  }
 ],
 "metadata": {
  "kernelspec": {
   "display_name": "Python 3",
   "language": "python",
   "name": "python3"
  },
  "language_info": {
   "codemirror_mode": {
    "name": "ipython",
    "version": 3
   },
   "file_extension": ".py",
   "mimetype": "text/x-python",
   "name": "python",
   "nbconvert_exporter": "python",
   "pygments_lexer": "ipython3",
   "version": "3.7.6"
  }
 },
 "nbformat": 4,
 "nbformat_minor": 4
}
